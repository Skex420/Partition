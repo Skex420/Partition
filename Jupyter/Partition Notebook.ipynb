{
 "cells": [
  {
   "cell_type": "markdown",
   "metadata": {},
   "source": [
    "<h1 style=\"text-align: center;\"><span style=\"text-align: center; color: #00ff00;\">Proyecto Partition</span></h1>\n",
    "<h4 style=\"text-align: center;\">Estudiantes:</h4>\n",
    "<h4 style=\"text-align: center;\">Kevin Artavia Arguedas</h4>\n",
    "<h4 style=\"text-align: center;\">Jose Gerardo Matarrita Hern&aacute;ndez</h4>\n",
    "<h4 style=\"text-align: center;\">Oscar Felipe Rodr&iacute;guez Nu&ntilde;ez</h4>\n",
    "<h4 style=\"text-align: center;\">Esteban A. Salas Chaves</h4>"
   ]
  },
  {
   "cell_type": "markdown",
   "metadata": {},
   "source": [
    "<hr/>\n",
    "># quickSort utilizando el pivote en el inicio."
   ]
  },
  {
   "cell_type": "code",
   "execution_count": 2,
   "metadata": {
    "collapsed": true
   },
   "outputs": [],
   "source": [
    "def quickSort(a):\n",
    "   quickSorting(a,0,len(a)-1)\n",
    "def quickSorting(a,inicio,final):\n",
    "   if inicio<final:\n",
    "       pp = particion(a,inicio,final)\n",
    "       quickSorting (a, inicio,pp-1)\n",
    "       quickSorting (a, pp+1, final)\n",
    "def particion(a , inicio, final):\n",
    "   pivote = a[inicio]\n",
    "   j = inicio+1\n",
    "   k = final\n",
    "   done = False\n",
    "   while not done:\n",
    "       while j <= k and a[j] <= pivote:\n",
    "           j = j + 1\n",
    "       while a[k] >= pivote and k >= j:\n",
    "           k = k -1\n",
    "       if k < j:\n",
    "           done = True\n",
    "       else:\n",
    "           temp = a[j]\n",
    "           a[j] = a[k]\n",
    "           a[k] = temp\n",
    "   temp = a[inicio]\n",
    "   a[inicio] = a[k]\n",
    "   a[k] = temp\n",
    "   return k"
   ]
  },
  {
   "cell_type": "markdown",
   "metadata": {},
   "source": [
    "<p><em><span style=\"text-decoration: underline;\">Datos de prueba:</span></em></p>"
   ]
  },
  {
   "cell_type": "code",
   "execution_count": 3,
   "metadata": {},
   "outputs": [
    {
     "name": "stdout",
     "output_type": "stream",
     "text": [
      "[15, 20, 43, 50, 70, 666]\n"
     ]
    }
   ],
   "source": [
    "a=[50,70,43,20,15,666]\n",
    "quickSort(a)\n",
    "print(a)"
   ]
  },
  {
   "cell_type": "markdown",
   "metadata": {},
   "source": [
    "$$T_{quickSort}(n):$$\n",
    "\n",
    "<img src=\"T%5BquickSort%5D.png\" alt=\"Quick Sort\">"
   ]
  },
  {
   "cell_type": "markdown",
   "metadata": {},
   "source": [
    "<hr/>\n",
    "># quickSort con el pivote aleatorio (randomQuickSort):"
   ]
  },
  {
   "cell_type": "code",
   "execution_count": 4,
   "metadata": {
    "collapsed": true
   },
   "outputs": [],
   "source": [
    "import random as ran\n",
    "\n",
    "def randomQuickSort(a,inicio,fin):\n",
    "    if inicio<fin:\n",
    "        randomN=ran.randint(inicio,fin)\n",
    "        temp=a[fin]\n",
    "        a[fin]=a[randomN]\n",
    "        a[randomN]=temp\n",
    "        pp=particionRandom(a,inicio,fin)\n",
    "        randomQuickSort(a,inicio,pp-1)\n",
    "        randomQuickSort(a,pp+1,fin)\n",
    "def particionRandom(a, inicio, fin):\n",
    "    randomN=ran.randint(inicio,fin)\n",
    "    temp=a[fin]\n",
    "    a[fin]=a[randomN]\n",
    "    a[randomN]=temp\n",
    "    i=inicio-1\n",
    "    for j in range(inicio,fin):\n",
    "        if a[j]<a[fin]:\n",
    "            i=i+1\n",
    "            temp=a[i]\n",
    "            a[i]=a[j]\n",
    "            a[j]=temp\n",
    "    temp=a[i+1]\n",
    "    a[i+1]=a[fin]\n",
    "    a[fin]=temp\n",
    "    return i+1"
   ]
  },
  {
   "cell_type": "markdown",
   "metadata": {},
   "source": [
    "<p><em><span style=\"text-decoration: underline;\">Datos de prueba:</span></em></p>"
   ]
  },
  {
   "cell_type": "code",
   "execution_count": 5,
   "metadata": {},
   "outputs": [
    {
     "name": "stdout",
     "output_type": "stream",
     "text": [
      "[15, 20, 43, 50, 70, 666]\n"
     ]
    }
   ],
   "source": [
    "a=[50,70,43,20,15,666]\n",
    "randomQuickSort(a, 0, len(a)-1)\n",
    "print(a)"
   ]
  },
  {
   "cell_type": "markdown",
   "metadata": {},
   "source": [
    "$$T_{RandomQuickSort}(n):$$\n",
    "\n",
    "<img src=\"T%5BRandomQuickSort%5D.png\" alt=\"Random Quick Sort\">\n",
    "\n",
    "#### Nota: se utilizó una línea de tendencia O(n) para demostrar que es O(nlog(n))"
   ]
  },
  {
   "cell_type": "markdown",
   "metadata": {},
   "source": [
    "<hr/>\n",
    "># Método sort5:"
   ]
  },
  {
   "cell_type": "code",
   "execution_count": 7,
   "metadata": {
    "collapsed": true
   },
   "outputs": [],
   "source": [
    "def sort5(A):\n",
    "    for i in range(len(a)-1,0,-1):\n",
    "        for j in range(i):\n",
    "            if a[j]>a[j+1]:\n",
    "                temp = a[j]\n",
    "                a[j] = a[j+1]\n",
    "                a[j+1] = temp"
   ]
  },
  {
   "cell_type": "markdown",
   "metadata": {},
   "source": [
    "<p><em><span style=\"text-decoration: underline;\">Datos de prueba:</span></em></p>"
   ]
  },
  {
   "cell_type": "code",
   "execution_count": 8,
   "metadata": {},
   "outputs": [
    {
     "name": "stdout",
     "output_type": "stream",
     "text": [
      "[15, 20, 43, 50, 70]\n"
     ]
    }
   ],
   "source": [
    "a=[50,70,43,20,15]\n",
    "sort5(a)\n",
    "print(a)"
   ]
  },
  {
   "cell_type": "markdown",
   "metadata": {},
   "source": [
    "$$T_{sort5}(n):$$\n",
    "\n",
    "<img src=\"T%5Bsort5%5D.png\" alt=\"Sort5\">"
   ]
  },
  {
   "cell_type": "markdown",
   "metadata": {},
   "source": [
    "<hr/>\n",
    "># Método medianOfMedians:"
   ]
  },
  {
   "cell_type": "code",
   "execution_count": 1,
   "metadata": {
    "collapsed": true
   },
   "outputs": [],
   "source": [
    "def medianOfMedians(a, n):\n",
    "    listasDivididas = [a[j:j+5] for j in range(0, len(a), 5)]\n",
    "    listaMedianas = [sorted(listaDividida)[len(listaDividida)//2] for listaDividida in listasDivididas]\n",
    "    if len(listaMedianas) <= 5:\n",
    "        pp = sorted(listaMedianas)[len(listaMedianas)//2]\n",
    "    else:\n",
    "        pp = medianOfMedians(listaMedianas, len(listaMedianas)//2)\n",
    "    menoresQuePP = [j for j in a if j < pp]\n",
    "    mayoresQuePP = [j for j in a if j > pp]\n",
    "    k = len(menoresQuePP)\n",
    "    if n < k:\n",
    "        return medianOfMedians(menoresQuePP,n)\n",
    "    elif n > k:\n",
    "        return medianOfMedians(mayoresQuePP,n-k-1)\n",
    "    else:\n",
    "        return pp"
   ]
  },
  {
   "cell_type": "markdown",
   "metadata": {},
   "source": [
    "<p><em><span style=\"text-decoration: underline;\">Datos de prueba:</span></em></p>"
   ]
  },
  {
   "cell_type": "code",
   "execution_count": 3,
   "metadata": {},
   "outputs": [
    {
     "name": "stdout",
     "output_type": "stream",
     "text": [
      "1\n"
     ]
    }
   ],
   "source": [
    "A = [1,2,3,4,5,1000,8,9,99]\n",
    "print (medianOfMedians(A, 0))"
   ]
  },
  {
   "cell_type": "markdown",
   "metadata": {},
   "source": [
    "##### el dato más pequeño en la posición 0, es 1"
   ]
  },
  {
   "cell_type": "markdown",
   "metadata": {},
   "source": [
    "$$T_{medianOfMedians}(n):$$\n",
    "\n",
    "<img src=\"T%5BmedianOfMedians%5D.png\" alt=\"Median of Medians\">"
   ]
  }
 ],
 "metadata": {
  "kernelspec": {
   "display_name": "Python 3",
   "language": "python",
   "name": "python3"
  },
  "language_info": {
   "codemirror_mode": {
    "name": "ipython",
    "version": 3
   },
   "file_extension": ".py",
   "mimetype": "text/x-python",
   "name": "python",
   "nbconvert_exporter": "python",
   "pygments_lexer": "ipython3",
   "version": "3.6.3"
  }
 },
 "nbformat": 4,
 "nbformat_minor": 2
}
