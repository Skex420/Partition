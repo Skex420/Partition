{
 "cells": [
  {
   "cell_type": "markdown",
   "metadata": {},
   "source": [
    "<h1 style=\"text-align: center;\"><span style=\"text-align: center; color: #00ff00;\">Proyecto Partition</span></h1>\n",
    "<h4 style=\"text-align: center;\">Estudiantes:</h4>\n",
    "<h4 style=\"text-align: center;\">Kevin Artavia Arguedas</h4>\n",
    "<h4 style=\"text-align: center;\">Jose Gerardo Matarrita Hern&aacute;ndez</h4>\n",
    "<h4 style=\"text-align: center;\">Esteban A. Salas Chaves</h4>\n",
    "<h4 style=\"text-align: center;\">Oscar Felipe Rodr&iacute;guez Nu&ntilde;ez</h4>"
   ]
  },
  {
   "cell_type": "markdown",
   "metadata": {},
   "source": [
    "> # Este sería el código general para quickSort utilizando el pivote en el inicio."
   ]
  },
  {
   "cell_type": "code",
   "execution_count": 2,
   "metadata": {
    "collapsed": true
   },
   "outputs": [],
   "source": [
    "def quickSort(a):\n",
    "   quickSorting(a,0,len(a)-1)\n",
    "\n",
    "def quickSorting(a,inicio,final):\n",
    "   if inicio<final:\n",
    "\n",
    "       pp = particion(a,inicio,final) #pp(punto de particion)\n",
    "\n",
    "       quickSorting (a, inicio,pp-1)\n",
    "       quickSorting (a, pp+1, final)\n",
    "\n",
    "def particion(a , inicio, final):\n",
    "   pivote = a[inicio]\n",
    "\n",
    "   j = inicio+1\n",
    "   k = final\n",
    "\n",
    "   done = False\n",
    "   while not done:\n",
    "\n",
    "       while j <= k and a[j] <= pivote:\n",
    "           j = j + 1\n",
    "\n",
    "       while a[k] >= pivote and k >= j:\n",
    "           k = k -1\n",
    "\n",
    "       if k < j:\n",
    "           done = True\n",
    "       else:\n",
    "           temp = a[j]\n",
    "           a[j] = a[k]\n",
    "           a[k] = temp\n",
    "\n",
    "   temp = a[inicio]\n",
    "   a[inicio] = a[k]\n",
    "   a[k] = temp\n",
    "   return k"
   ]
  },
  {
   "cell_type": "markdown",
   "metadata": {},
   "source": [
    "<p><em><span style=\"text-decoration: underline;\">Datos de prueba:</span></em></p>"
   ]
  },
  {
   "cell_type": "code",
   "execution_count": 4,
   "metadata": {},
   "outputs": [
    {
     "name": "stdout",
     "output_type": "stream",
     "text": [
      "[15, 20, 43, 50, 70, 666]\n"
     ]
    }
   ],
   "source": [
    "a=[50,70,43,20,15,666]\n",
    "quickSort(a)\n",
    "print(a)"
   ]
  },
  {
   "cell_type": "markdown",
   "metadata": {},
   "source": []
  }
 ],
 "metadata": {
  "kernelspec": {
   "display_name": "Python 3",
   "language": "python",
   "name": "python3"
  },
  "language_info": {
   "codemirror_mode": {
    "name": "ipython",
    "version": 3
   },
   "file_extension": ".py",
   "mimetype": "text/x-python",
   "name": "python",
   "nbconvert_exporter": "python",
   "pygments_lexer": "ipython3",
   "version": "3.6.3"
  }
 },
 "nbformat": 4,
 "nbformat_minor": 2
}
